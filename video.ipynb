{
 "cells": [
  {
   "cell_type": "code",
   "execution_count": 19,
   "metadata": {},
   "outputs": [],
   "source": [
    "import numpy as np\n",
    "import cv2 as cv\n",
    "\n",
    "from sklearn.externals import joblib\n",
    "from matplotlib import pyplot as plt\n",
    "\n",
    "import math\n",
    "import pytesseract\n",
    "from PIL import Image"
   ]
  },
  {
   "cell_type": "code",
   "execution_count": 20,
   "metadata": {},
   "outputs": [],
   "source": [
    "clf = joblib.load('plate2.pkl')"
   ]
  },
  {
   "cell_type": "code",
   "execution_count": 21,
   "metadata": {},
   "outputs": [],
   "source": [
    "def drawPlate(image) :\n",
    "    grayImage = cv.cvtColor(image,cv.COLOR_RGB2GRAY)\n",
    "    binaryImage = cv.adaptiveThreshold(grayImage,255,cv.ADAPTIVE_THRESH_MEAN_C,cv.THRESH_BINARY,31,5)\n",
    "    x,y,w,h = 0,0,0,0,\n",
    "    _,contours,_ = cv.findContours(binaryImage, cv.RETR_TREE, cv.CHAIN_APPROX_SIMPLE);\n",
    "    for contour in contours:\n",
    "        area = cv.contourArea(contour);\n",
    "        if area > 1000 : \n",
    "            [x,y,w,h] = cv.boundingRect(contour);\n",
    "            outputRect = image[y:y+h,x:x+w,:]\n",
    "            high,width,channel = outputRect.shape\n",
    "            f1 = width/high\n",
    "            f2 = math.log(width*high)\n",
    "            #grayScale -> Binary Threshold -> Histogram\n",
    "            imageGray = cv.cvtColor(outputRect,cv.COLOR_RGB2GRAY)\n",
    "            adaptive = cv.adaptiveThreshold(imageGray,255,\n",
    "                                            cv.ADAPTIVE_THRESH_GAUSSIAN_C,\n",
    "                                            cv.THRESH_BINARY,\n",
    "                                            31,5)\n",
    "\n",
    "            #histogram\n",
    "            hist = np.histogram(adaptive)\n",
    "            f3,f4 = hist[0][0],hist[0][-1]\n",
    "            f3 = math.log(f3) if f3 != 0 else 0\n",
    "            f4 = math.log(f4) if f4 != 0 else 0\n",
    "            f5 = f3/f4 if f4 != 0 else 0   # f5 = f4 != 0 ? f3/f4 : 0 \n",
    "            feature = np.asarray([f1,f2,f3,f4,f5])\n",
    "            result = clf.predict([feature])[0]\n",
    "            if(result == 1) :\n",
    "                cv.rectangle(image, (x,y), (x+w, y+h), (0,255,0), 10);\n",
    "                \n",
    "    return image"
   ]
  },
  {
   "cell_type": "code",
   "execution_count": 22,
   "metadata": {},
   "outputs": [],
   "source": [
    "cap = cv.VideoCapture(2)\n",
    "\n",
    "while(True):\n",
    "    # Capture frame-by-frame\n",
    "    ret, frame = cap.read()\n",
    "    # Display the resulting frame\n",
    "    \n",
    "    frame = drawPlate(frame)\n",
    "    \n",
    "    cv.imshow('frame',frame)\n",
    "    if cv.waitKey(1) & 0xFF == ord('q'):\n",
    "        break\n",
    "\n",
    "# When everything done, release the capture\n",
    "cap.release()\n",
    "cv.destroyAllWindows()"
   ]
  },
  {
   "cell_type": "code",
   "execution_count": 17,
   "metadata": {},
   "outputs": [],
   "source": [
    "cap.release()\n",
    "cv.destroyAllWindows()"
   ]
  },
  {
   "cell_type": "code",
   "execution_count": null,
   "metadata": {},
   "outputs": [],
   "source": []
  },
  {
   "cell_type": "code",
   "execution_count": null,
   "metadata": {},
   "outputs": [],
   "source": []
  }
 ],
 "metadata": {
  "kernelspec": {
   "display_name": "Python 3",
   "language": "python",
   "name": "python3"
  },
  "language_info": {
   "codemirror_mode": {
    "name": "ipython",
    "version": 3
   },
   "file_extension": ".py",
   "mimetype": "text/x-python",
   "name": "python",
   "nbconvert_exporter": "python",
   "pygments_lexer": "ipython3",
   "version": "3.6.5"
  }
 },
 "nbformat": 4,
 "nbformat_minor": 2
}

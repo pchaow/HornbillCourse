{
 "cells": [
  {
   "cell_type": "code",
   "execution_count": 1,
   "metadata": {},
   "outputs": [
    {
     "name": "stderr",
     "output_type": "stream",
     "text": [
      "e:\\Anaconda\\lib\\site-packages\\h5py\\__init__.py:36: FutureWarning: Conversion of the second argument of issubdtype from `float` to `np.floating` is deprecated. In future, it will be treated as `np.float64 == np.dtype(float).type`.\n",
      "  from ._conv import register_converters as _register_converters\n",
      "Using TensorFlow backend.\n"
     ]
    }
   ],
   "source": [
    "from keras.models import Sequential\n",
    "from keras.layers import Dense, Activation"
   ]
  },
  {
   "cell_type": "code",
   "execution_count": 2,
   "metadata": {},
   "outputs": [
    {
     "ename": "NameError",
     "evalue": "name 'Sequential' is not defined",
     "output_type": "error",
     "traceback": [
      "\u001b[1;31m---------------------------------------------------------------------------\u001b[0m",
      "\u001b[1;31mNameError\u001b[0m                                 Traceback (most recent call last)",
      "\u001b[1;32m<ipython-input-2-a6416dfe39ef>\u001b[0m in \u001b[0;36m<module>\u001b[1;34m()\u001b[0m\n\u001b[1;32m----> 1\u001b[1;33m \u001b[0mmodel\u001b[0m \u001b[1;33m=\u001b[0m \u001b[0mSequential\u001b[0m\u001b[1;33m(\u001b[0m\u001b[1;33m)\u001b[0m\u001b[1;33m\u001b[0m\u001b[0m\n\u001b[0m\u001b[0;32m      2\u001b[0m \u001b[0mmodel\u001b[0m\u001b[1;33m.\u001b[0m\u001b[0madd\u001b[0m\u001b[1;33m(\u001b[0m\u001b[0mDense\u001b[0m\u001b[1;33m(\u001b[0m\u001b[1;36m2\u001b[0m\u001b[1;33m,\u001b[0m \u001b[0mactivation\u001b[0m\u001b[1;33m=\u001b[0m\u001b[1;34m'relu'\u001b[0m\u001b[1;33m,\u001b[0m \u001b[0minput_dim\u001b[0m\u001b[1;33m=\u001b[0m\u001b[1;36m2\u001b[0m\u001b[1;33m)\u001b[0m\u001b[1;33m)\u001b[0m\u001b[1;33m\u001b[0m\u001b[0m\n\u001b[0;32m      3\u001b[0m \u001b[0mmodel\u001b[0m\u001b[1;33m.\u001b[0m\u001b[0madd\u001b[0m\u001b[1;33m(\u001b[0m\u001b[0mDense\u001b[0m\u001b[1;33m(\u001b[0m\u001b[1;36m4\u001b[0m\u001b[1;33m)\u001b[0m\u001b[1;33m)\u001b[0m\u001b[1;33m\u001b[0m\u001b[0m\n\u001b[0;32m      4\u001b[0m \u001b[0mmodel\u001b[0m\u001b[1;33m.\u001b[0m\u001b[0madd\u001b[0m\u001b[1;33m(\u001b[0m\u001b[0mDense\u001b[0m\u001b[1;33m(\u001b[0m\u001b[1;36m2\u001b[0m\u001b[1;33m,\u001b[0m \u001b[0mactivation\u001b[0m\u001b[1;33m=\u001b[0m\u001b[1;34m'softmax'\u001b[0m\u001b[1;33m)\u001b[0m\u001b[1;33m)\u001b[0m\u001b[1;33m\u001b[0m\u001b[0m\n",
      "\u001b[1;31mNameError\u001b[0m: name 'Sequential' is not defined"
     ]
    }
   ],
   "source": [
    "model = Sequential()\n",
    "model.add(Dense(2, activation='relu', input_dim=2))\n",
    "model.add(Dense(4))\n",
    "model.add(Dense(2, activation='softmax'))"
   ]
  },
  {
   "cell_type": "code",
   "execution_count": 1,
   "metadata": {},
   "outputs": [
    {
     "ename": "NameError",
     "evalue": "name 'model' is not defined",
     "output_type": "error",
     "traceback": [
      "\u001b[1;31m---------------------------------------------------------------------------\u001b[0m",
      "\u001b[1;31mNameError\u001b[0m                                 Traceback (most recent call last)",
      "\u001b[1;32m<ipython-input-1-fb17bcf883d2>\u001b[0m in \u001b[0;36m<module>\u001b[1;34m()\u001b[0m\n\u001b[1;32m----> 1\u001b[1;33m model.compile(optimizer='rmsprop',\n\u001b[0m\u001b[0;32m      2\u001b[0m               loss='mse')\n",
      "\u001b[1;31mNameError\u001b[0m: name 'model' is not defined"
     ]
    }
   ],
   "source": [
    "model.compile(optimizer='rmsprop',\n",
    "              loss='mse')"
   ]
  },
  {
   "cell_type": "code",
   "execution_count": 4,
   "metadata": {},
   "outputs": [],
   "source": [
    "# Generate dummy data\n",
    "import numpy as np\n",
    "data = np.asarray([[1,1],[1,1],[1,-1],[-1,1],[-1,-1]])\n",
    "labels = np.asarray([[1,0],[1,0],[0,1],[0,1],[0,1]])"
   ]
  },
  {
   "cell_type": "code",
   "execution_count": 5,
   "metadata": {},
   "outputs": [
    {
     "name": "stdout",
     "output_type": "stream",
     "text": [
      "Epoch 1/100\n",
      "5/5 [==============================] - 0s 25ms/step - loss: 0.5936 - acc: 0.4000\n",
      "Epoch 2/100\n",
      "5/5 [==============================] - 0s 0us/step - loss: 0.5871 - acc: 1.0000\n",
      "Epoch 3/100\n",
      "5/5 [==============================] - 0s 0us/step - loss: 0.5833 - acc: 0.6000\n",
      "Epoch 4/100\n",
      "5/5 [==============================] - 0s 0us/step - loss: 0.5812 - acc: 1.0000\n",
      "Epoch 5/100\n",
      "5/5 [==============================] - 0s 0us/step - loss: 0.5792 - acc: 0.8000\n",
      "Epoch 6/100\n",
      "5/5 [==============================] - 0s 0us/step - loss: 0.5773 - acc: 0.8000\n",
      "Epoch 7/100\n",
      "5/5 [==============================] - 0s 3ms/step - loss: 0.5749 - acc: 0.8000\n",
      "Epoch 8/100\n",
      "5/5 [==============================] - 0s 0us/step - loss: 0.5720 - acc: 0.8000\n",
      "Epoch 9/100\n",
      "5/5 [==============================] - 0s 0us/step - loss: 0.5692 - acc: 0.8000\n",
      "Epoch 10/100\n",
      "5/5 [==============================] - 0s 3ms/step - loss: 0.5668 - acc: 1.0000\n",
      "Epoch 11/100\n",
      "5/5 [==============================] - 0s 0us/step - loss: 0.5647 - acc: 1.0000\n",
      "Epoch 12/100\n",
      "5/5 [==============================] - 0s 0us/step - loss: 0.5634 - acc: 1.0000\n",
      "Epoch 13/100\n",
      "5/5 [==============================] - 0s 3ms/step - loss: 0.5617 - acc: 1.0000\n",
      "Epoch 14/100\n",
      "5/5 [==============================] - 0s 0us/step - loss: 0.5603 - acc: 1.0000\n",
      "Epoch 15/100\n",
      "5/5 [==============================] - 0s 3ms/step - loss: 0.5585 - acc: 1.0000\n",
      "Epoch 16/100\n",
      "5/5 [==============================] - 0s 0us/step - loss: 0.5562 - acc: 1.0000\n",
      "Epoch 17/100\n",
      "5/5 [==============================] - 0s 0us/step - loss: 0.5548 - acc: 1.0000\n",
      "Epoch 18/100\n",
      "5/5 [==============================] - 0s 3ms/step - loss: 0.5524 - acc: 1.0000\n",
      "Epoch 19/100\n",
      "5/5 [==============================] - 0s 0us/step - loss: 0.5501 - acc: 1.0000\n",
      "Epoch 20/100\n",
      "5/5 [==============================] - 0s 0us/step - loss: 0.5480 - acc: 1.0000\n",
      "Epoch 21/100\n",
      "5/5 [==============================] - 0s 3ms/step - loss: 0.5459 - acc: 1.0000\n",
      "Epoch 22/100\n",
      "5/5 [==============================] - 0s 0us/step - loss: 0.5437 - acc: 1.0000\n",
      "Epoch 23/100\n",
      "5/5 [==============================] - 0s 0us/step - loss: 0.5416 - acc: 1.0000\n",
      "Epoch 24/100\n",
      "5/5 [==============================] - 0s 3ms/step - loss: 0.5397 - acc: 1.0000\n",
      "Epoch 25/100\n",
      "5/5 [==============================] - 0s 0us/step - loss: 0.5375 - acc: 1.0000\n",
      "Epoch 26/100\n",
      "5/5 [==============================] - 0s 3ms/step - loss: 0.5355 - acc: 1.0000\n",
      "Epoch 27/100\n",
      "5/5 [==============================] - 0s 0us/step - loss: 0.5338 - acc: 1.0000\n",
      "Epoch 28/100\n",
      "5/5 [==============================] - 0s 0us/step - loss: 0.5316 - acc: 1.0000\n",
      "Epoch 29/100\n",
      "5/5 [==============================] - 0s 3ms/step - loss: 0.5297 - acc: 1.0000\n",
      "Epoch 30/100\n",
      "5/5 [==============================] - 0s 0us/step - loss: 0.5277 - acc: 1.0000\n",
      "Epoch 31/100\n",
      "5/5 [==============================] - 0s 0us/step - loss: 0.5259 - acc: 1.0000\n",
      "Epoch 32/100\n",
      "5/5 [==============================] - 0s 0us/step - loss: 0.5244 - acc: 1.0000\n",
      "Epoch 33/100\n",
      "5/5 [==============================] - 0s 0us/step - loss: 0.5229 - acc: 1.0000\n",
      "Epoch 34/100\n",
      "5/5 [==============================] - 0s 3ms/step - loss: 0.5210 - acc: 1.0000\n",
      "Epoch 35/100\n",
      "5/5 [==============================] - 0s 0us/step - loss: 0.5192 - acc: 1.0000\n",
      "Epoch 36/100\n",
      "5/5 [==============================] - 0s 0us/step - loss: 0.5172 - acc: 1.0000\n",
      "Epoch 37/100\n",
      "5/5 [==============================] - 0s 3ms/step - loss: 0.5150 - acc: 1.0000\n",
      "Epoch 38/100\n",
      "5/5 [==============================] - 0s 0us/step - loss: 0.5137 - acc: 1.0000\n",
      "Epoch 39/100\n",
      "5/5 [==============================] - 0s 0us/step - loss: 0.5114 - acc: 1.0000\n",
      "Epoch 40/100\n",
      "5/5 [==============================] - 0s 3ms/step - loss: 0.5096 - acc: 1.0000\n",
      "Epoch 41/100\n",
      "5/5 [==============================] - 0s 0us/step - loss: 0.5074 - acc: 1.0000\n",
      "Epoch 42/100\n",
      "5/5 [==============================] - 0s 0us/step - loss: 0.5050 - acc: 1.0000\n",
      "Epoch 43/100\n",
      "5/5 [==============================] - 0s 0us/step - loss: 0.5029 - acc: 1.0000\n",
      "Epoch 44/100\n",
      "5/5 [==============================] - 0s 3ms/step - loss: 0.5012 - acc: 1.0000\n",
      "Epoch 45/100\n",
      "5/5 [==============================] - 0s 0us/step - loss: 0.4995 - acc: 1.0000\n",
      "Epoch 46/100\n",
      "5/5 [==============================] - 0s 3ms/step - loss: 0.4972 - acc: 1.0000\n",
      "Epoch 47/100\n",
      "5/5 [==============================] - 0s 0us/step - loss: 0.4951 - acc: 1.0000\n",
      "Epoch 48/100\n",
      "5/5 [==============================] - 0s 3ms/step - loss: 0.4935 - acc: 1.0000\n",
      "Epoch 49/100\n",
      "5/5 [==============================] - 0s 0us/step - loss: 0.4913 - acc: 1.0000\n",
      "Epoch 50/100\n",
      "5/5 [==============================] - 0s 0us/step - loss: 0.4890 - acc: 1.0000\n",
      "Epoch 51/100\n",
      "5/5 [==============================] - 0s 0us/step - loss: 0.4875 - acc: 1.0000\n",
      "Epoch 52/100\n",
      "5/5 [==============================] - 0s 0us/step - loss: 0.4849 - acc: 1.0000\n",
      "Epoch 53/100\n",
      "5/5 [==============================] - 0s 0us/step - loss: 0.4826 - acc: 1.0000\n",
      "Epoch 54/100\n",
      "5/5 [==============================] - 0s 2ms/step - loss: 0.4801 - acc: 1.0000\n",
      "Epoch 55/100\n",
      "5/5 [==============================] - 0s 0us/step - loss: 0.4778 - acc: 1.0000\n",
      "Epoch 56/100\n",
      "5/5 [==============================] - 0s 0us/step - loss: 0.4762 - acc: 1.0000\n",
      "Epoch 57/100\n",
      "5/5 [==============================] - 0s 0us/step - loss: 0.4738 - acc: 1.0000\n",
      "Epoch 58/100\n",
      "5/5 [==============================] - 0s 0us/step - loss: 0.4723 - acc: 1.0000\n",
      "Epoch 59/100\n",
      "5/5 [==============================] - 0s 0us/step - loss: 0.4706 - acc: 1.0000\n",
      "Epoch 60/100\n",
      "5/5 [==============================] - 0s 0us/step - loss: 0.4678 - acc: 1.0000\n",
      "Epoch 61/100\n",
      "5/5 [==============================] - 0s 3ms/step - loss: 0.4651 - acc: 1.0000\n",
      "Epoch 62/100\n",
      "5/5 [==============================] - 0s 0us/step - loss: 0.4630 - acc: 1.0000\n",
      "Epoch 63/100\n",
      "5/5 [==============================] - 0s 0us/step - loss: 0.4610 - acc: 1.0000\n",
      "Epoch 64/100\n",
      "5/5 [==============================] - 0s 0us/step - loss: 0.4593 - acc: 1.0000\n",
      "Epoch 65/100\n",
      "5/5 [==============================] - 0s 0us/step - loss: 0.4578 - acc: 1.0000\n",
      "Epoch 66/100\n",
      "5/5 [==============================] - 0s 0us/step - loss: 0.4560 - acc: 1.0000\n",
      "Epoch 67/100\n",
      "5/5 [==============================] - 0s 0us/step - loss: 0.4541 - acc: 1.0000\n",
      "Epoch 68/100\n",
      "5/5 [==============================] - 0s 0us/step - loss: 0.4514 - acc: 1.0000\n",
      "Epoch 69/100\n",
      "5/5 [==============================] - 0s 3ms/step - loss: 0.4487 - acc: 1.0000\n",
      "Epoch 70/100\n",
      "5/5 [==============================] - 0s 0us/step - loss: 0.4464 - acc: 1.0000\n",
      "Epoch 71/100\n",
      "5/5 [==============================] - 0s 0us/step - loss: 0.4442 - acc: 1.0000\n",
      "Epoch 72/100\n",
      "5/5 [==============================] - 0s 3ms/step - loss: 0.4415 - acc: 1.0000\n",
      "Epoch 73/100\n",
      "5/5 [==============================] - 0s 0us/step - loss: 0.4391 - acc: 1.0000\n",
      "Epoch 74/100\n",
      "5/5 [==============================] - 0s 0us/step - loss: 0.4376 - acc: 1.0000\n",
      "Epoch 75/100\n",
      "5/5 [==============================] - 0s 0us/step - loss: 0.4357 - acc: 1.0000\n",
      "Epoch 76/100\n",
      "5/5 [==============================] - 0s 3ms/step - loss: 0.4331 - acc: 1.0000\n",
      "Epoch 77/100\n",
      "5/5 [==============================] - 0s 1ms/step - loss: 0.4312 - acc: 1.0000\n",
      "Epoch 78/100\n",
      "5/5 [==============================] - 0s 0us/step - loss: 0.4288 - acc: 1.0000\n",
      "Epoch 79/100\n",
      "5/5 [==============================] - 0s 0us/step - loss: 0.4271 - acc: 1.0000\n",
      "Epoch 80/100\n",
      "5/5 [==============================] - 0s 0us/step - loss: 0.4244 - acc: 1.0000\n",
      "Epoch 81/100\n",
      "5/5 [==============================] - 0s 3ms/step - loss: 0.4220 - acc: 1.0000\n",
      "Epoch 82/100\n",
      "5/5 [==============================] - 0s 0us/step - loss: 0.4193 - acc: 1.0000\n",
      "Epoch 83/100\n",
      "5/5 [==============================] - 0s 0us/step - loss: 0.4172 - acc: 1.0000\n",
      "Epoch 84/100\n",
      "5/5 [==============================] - 0s 0us/step - loss: 0.4157 - acc: 1.0000\n",
      "Epoch 85/100\n",
      "5/5 [==============================] - 0s 3ms/step - loss: 0.4139 - acc: 1.0000\n",
      "Epoch 86/100\n",
      "5/5 [==============================] - 0s 0us/step - loss: 0.4116 - acc: 1.0000\n",
      "Epoch 87/100\n",
      "5/5 [==============================] - 0s 0us/step - loss: 0.4099 - acc: 1.0000\n",
      "Epoch 88/100\n",
      "5/5 [==============================] - 0s 0us/step - loss: 0.4080 - acc: 1.0000\n",
      "Epoch 89/100\n",
      "5/5 [==============================] - 0s 3ms/step - loss: 0.4055 - acc: 1.0000\n",
      "Epoch 90/100\n",
      "5/5 [==============================] - 0s 0us/step - loss: 0.4033 - acc: 1.0000\n",
      "Epoch 91/100\n",
      "5/5 [==============================] - 0s 0us/step - loss: 0.4013 - acc: 1.0000\n",
      "Epoch 92/100\n",
      "5/5 [==============================] - 0s 0us/step - loss: 0.3981 - acc: 1.0000\n",
      "Epoch 93/100\n",
      "5/5 [==============================] - 0s 3ms/step - loss: 0.3952 - acc: 1.0000\n",
      "Epoch 94/100\n",
      "5/5 [==============================] - 0s 0us/step - loss: 0.3925 - acc: 1.0000\n",
      "Epoch 95/100\n",
      "5/5 [==============================] - 0s 0us/step - loss: 0.3901 - acc: 1.0000\n",
      "Epoch 96/100\n",
      "5/5 [==============================] - 0s 3ms/step - loss: 0.3884 - acc: 1.0000\n",
      "Epoch 97/100\n",
      "5/5 [==============================] - 0s 0us/step - loss: 0.3860 - acc: 1.0000\n",
      "Epoch 98/100\n",
      "5/5 [==============================] - 0s 0us/step - loss: 0.3837 - acc: 1.0000\n",
      "Epoch 99/100\n",
      "5/5 [==============================] - 0s 0us/step - loss: 0.3815 - acc: 1.0000\n",
      "Epoch 100/100\n",
      "5/5 [==============================] - 0s 3ms/step - loss: 0.3793 - acc: 1.0000\n"
     ]
    },
    {
     "data": {
      "text/plain": [
       "<keras.callbacks.History at 0x1f3f0c4bbe0>"
      ]
     },
     "execution_count": 5,
     "metadata": {},
     "output_type": "execute_result"
    }
   ],
   "source": [
    "# Train the model, iterating on the data in batches of 32 samples\n",
    "model.fit(data, labels, epochs=100, batch_size=4)"
   ]
  },
  {
   "cell_type": "code",
   "execution_count": 6,
   "metadata": {},
   "outputs": [
    {
     "data": {
      "text/plain": [
       "array([[0.63783336, 0.3621667 ],\n",
       "       [0.63783336, 0.3621667 ],\n",
       "       [0.476197  , 0.52380294],\n",
       "       [0.11390098, 0.886099  ],\n",
       "       [0.19317558, 0.8068244 ]], dtype=float32)"
      ]
     },
     "execution_count": 6,
     "metadata": {},
     "output_type": "execute_result"
    }
   ],
   "source": [
    "model.predict(data)"
   ]
  },
  {
   "cell_type": "code",
   "execution_count": null,
   "metadata": {},
   "outputs": [],
   "source": []
  },
  {
   "cell_type": "code",
   "execution_count": null,
   "metadata": {},
   "outputs": [],
   "source": []
  },
  {
   "cell_type": "code",
   "execution_count": null,
   "metadata": {},
   "outputs": [],
   "source": []
  }
 ],
 "metadata": {
  "kernelspec": {
   "display_name": "Python 3",
   "language": "python",
   "name": "python3"
  },
  "language_info": {
   "codemirror_mode": {
    "name": "ipython",
    "version": 3
   },
   "file_extension": ".py",
   "mimetype": "text/x-python",
   "name": "python",
   "nbconvert_exporter": "python",
   "pygments_lexer": "ipython3",
   "version": "3.6.5"
  }
 },
 "nbformat": 4,
 "nbformat_minor": 2
}

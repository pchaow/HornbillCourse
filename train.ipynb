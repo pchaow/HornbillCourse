{
 "cells": [
  {
   "cell_type": "code",
   "execution_count": 16,
   "metadata": {},
   "outputs": [],
   "source": [
    "import os\n",
    "import math"
   ]
  },
  {
   "cell_type": "code",
   "execution_count": 17,
   "metadata": {},
   "outputs": [],
   "source": [
    "import cv2 as cv\n",
    "import numpy as np\n",
    "from sklearn import svm\n",
    "\n",
    "from matplotlib import pyplot as plt"
   ]
  },
  {
   "cell_type": "code",
   "execution_count": 18,
   "metadata": {},
   "outputs": [],
   "source": [
    "positivePath = os.path.join('.','cars','positive')\n",
    "negativePath = os.path.join('.','cars','negative')"
   ]
  },
  {
   "cell_type": "code",
   "execution_count": 19,
   "metadata": {},
   "outputs": [],
   "source": [
    "positiveFiles = os.listdir(positivePath)\n",
    "negativeFiles = os.listdir(negativePath)"
   ]
  },
  {
   "cell_type": "code",
   "execution_count": 20,
   "metadata": {},
   "outputs": [],
   "source": [
    "numPositive = len(positiveFiles)\n",
    "numNegative = len(negativeFiles)"
   ]
  },
  {
   "cell_type": "code",
   "execution_count": 21,
   "metadata": {},
   "outputs": [],
   "source": [
    "posLabel = np.ones(numPositive,dtype=np.uint8)\n",
    "negLabel = np.zeros(numNegative,dtype=np.uint8)"
   ]
  },
  {
   "cell_type": "code",
   "execution_count": 22,
   "metadata": {},
   "outputs": [],
   "source": [
    "labels = np.append(posLabel,negLabel)"
   ]
  },
  {
   "cell_type": "code",
   "execution_count": 23,
   "metadata": {},
   "outputs": [],
   "source": [
    "features = []\n",
    "j = 0\n",
    "for file in positiveFiles :\n",
    "    feature = []\n",
    "    filePath = os.path.join(positivePath,file)\n",
    "    image = cv.imread(filePath)\n",
    "    #feature 1st - 2nd\n",
    "    h,w,c = image.shape\n",
    "    f1 = w/h\n",
    "    f2 = math.log(w*h)\n",
    "    #grayScale -> Binary Threshold -> Histogram\n",
    "    imageGray = cv.cvtColor(image,cv.COLOR_RGB2GRAY)\n",
    "    adaptive = cv.adaptiveThreshold(imageGray,255,\n",
    "                                    cv.ADAPTIVE_THRESH_GAUSSIAN_C,\n",
    "                                    cv.THRESH_BINARY,\n",
    "                                    31,5)\n",
    "    cv.imwrite('./cars/tmp2/{:03}.jpg'.format(j),adaptive)\n",
    "    j+=1\n",
    "    #histogram\n",
    "    hist = np.histogram(adaptive)\n",
    "    f3,f4 = hist[0][0],hist[0][-1]\n",
    "    f3 = math.log(f3) if f3 != 0 else 0\n",
    "    f4 = math.log(f4) if f4 != 0 else 0\n",
    "    f5 = f3/f4 if f4 != 0 else 0\n",
    "    features.append(np.asarray([f1,f2,f3,f4,f5]))"
   ]
  },
  {
   "cell_type": "code",
   "execution_count": 24,
   "metadata": {},
   "outputs": [],
   "source": [
    "for file in negativeFiles:\n",
    "    feature = []\n",
    "    filePath = os.path.join(negativePath,file)\n",
    "    image = cv.imread(filePath)\n",
    "\n",
    "    #feature 1st - 2nd\n",
    "    h,w,c = image.shape\n",
    "    f1 = w/h\n",
    "    f2 = math.log(w*h)\n",
    "    #grayScale -> Binary Threshold -> Histogram\n",
    "    imageGray = cv.cvtColor(image,cv.COLOR_RGB2GRAY)\n",
    "    adaptive = cv.adaptiveThreshold(imageGray,255,\n",
    "                                    cv.ADAPTIVE_THRESH_GAUSSIAN_C,\n",
    "                                    cv.THRESH_BINARY,\n",
    "                                    31,5)\n",
    "    cv.imwrite('./cars/tmp2/{:03}.jpg'.format(j),adaptive)\n",
    "    j+=1\n",
    "    #histogram\n",
    "    hist = np.histogram(adaptive)\n",
    "    f3,f4 = hist[0][0],hist[0][-1]\n",
    "    f3 = math.log(f3) if f3 != 0 else 0\n",
    "    f4 = math.log(f4) if f4 != 0 else 0\n",
    "    f5 = f3/f4 if f4 != 0 else 0\n",
    "    features.append(np.asarray([f1,f2,f3,f4,f5]))"
   ]
  },
  {
   "cell_type": "code",
   "execution_count": 25,
   "metadata": {},
   "outputs": [],
   "source": [
    "clf = svm.SVC(kernel='rbf')"
   ]
  },
  {
   "cell_type": "code",
   "execution_count": 26,
   "metadata": {},
   "outputs": [
    {
     "data": {
      "text/plain": [
       "SVC(C=1.0, cache_size=200, class_weight=None, coef0=0.0,\n",
       "  decision_function_shape='ovr', degree=3, gamma='auto', kernel='rbf',\n",
       "  max_iter=-1, probability=False, random_state=None, shrinking=True,\n",
       "  tol=0.001, verbose=False)"
      ]
     },
     "execution_count": 26,
     "metadata": {},
     "output_type": "execute_result"
    }
   ],
   "source": [
    "clf.fit(features,labels)"
   ]
  },
  {
   "cell_type": "code",
   "execution_count": 27,
   "metadata": {},
   "outputs": [
    {
     "data": {
      "text/plain": [
       "0.9436619718309859"
      ]
     },
     "execution_count": 27,
     "metadata": {},
     "output_type": "execute_result"
    }
   ],
   "source": [
    "clf.score(features,labels)"
   ]
  },
  {
   "cell_type": "code",
   "execution_count": 28,
   "metadata": {},
   "outputs": [
    {
     "data": {
      "text/plain": [
       "['plate2.pkl']"
      ]
     },
     "execution_count": 28,
     "metadata": {},
     "output_type": "execute_result"
    }
   ],
   "source": [
    "from sklearn.externals import joblib\n",
    "joblib.dump(clf, 'plate2.pkl') "
   ]
  },
  {
   "cell_type": "code",
   "execution_count": 30,
   "metadata": {},
   "outputs": [
    {
     "data": {
      "text/plain": [
       "array([1, 1, 1, 1, 1, 1, 1, 1, 1, 1, 1, 0, 0, 0, 0, 0, 0, 0, 0, 0],\n",
       "      dtype=uint8)"
      ]
     },
     "execution_count": 30,
     "metadata": {},
     "output_type": "execute_result"
    }
   ],
   "source": [
    "clf.predict(features[40:60])"
   ]
  },
  {
   "cell_type": "code",
   "execution_count": null,
   "metadata": {},
   "outputs": [],
   "source": []
  }
 ],
 "metadata": {
  "kernelspec": {
   "display_name": "Python 3",
   "language": "python",
   "name": "python3"
  },
  "language_info": {
   "codemirror_mode": {
    "name": "ipython",
    "version": 3
   },
   "file_extension": ".py",
   "mimetype": "text/x-python",
   "name": "python",
   "nbconvert_exporter": "python",
   "pygments_lexer": "ipython3",
   "version": "3.6.5"
  }
 },
 "nbformat": 4,
 "nbformat_minor": 2
}
